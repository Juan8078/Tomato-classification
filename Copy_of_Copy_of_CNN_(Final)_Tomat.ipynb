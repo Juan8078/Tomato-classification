{
  "cells": [
    {
      "cell_type": "markdown",
      "metadata": {
        "id": "view-in-github",
        "colab_type": "text"
      },
      "source": [
        "<a href=\"https://colab.research.google.com/github/Juan8078/Tomato-classification/blob/main/Copy_of_Copy_of_CNN_(Final)_Tomat.ipynb\" target=\"_parent\"><img src=\"https://colab.research.google.com/assets/colab-badge.svg\" alt=\"Open In Colab\"/></a>"
      ]
    },
    {
      "cell_type": "code",
      "execution_count": null,
      "metadata": {
        "colab": {
          "base_uri": "https://localhost:8080/"
        },
        "id": "HFJ3fltuSzrL",
        "outputId": "c76be863-798b-4957-8099-3ef97dd9c30e"
      },
      "outputs": [
        {
          "output_type": "stream",
          "name": "stdout",
          "text": [
            "Mounted at /content/drive\n"
          ]
        }
      ],
      "source": [
        "# CONNECT GOOGLE DRIVE\n",
        "from google.colab import drive\n",
        "drive.mount('/content/drive')"
      ]
    },
    {
      "cell_type": "code",
      "execution_count": null,
      "metadata": {
        "id": "qmJ07xQN4N__"
      },
      "outputs": [],
      "source": [
        "import os #mengiport library yg dibutuhkan!"
      ]
    },
    {
      "cell_type": "code",
      "execution_count": null,
      "metadata": {
        "id": "lrVZ8jAjVW9a"
      },
      "outputs": [],
      "source": [
        "set_1 = os.path.join('/content/drive/MyDrive/Proposal skripsi/Dataset/Train/mentah')\n",
        "set_2 = os.path.join('/content/drive/MyDrive/Proposal skripsi/Dataset/Train/setengah matang_fix')\n",
        "set_3 = os.path.join('/content/drive/MyDrive/Proposal skripsi/Dataset/Train/matang')\n",
        "set_4 = os.path.join('/content/drive/MyDrive/Proposal skripsi/Dataset/Train/busuk')"
      ]
    },
    {
      "cell_type": "code",
      "execution_count": null,
      "metadata": {
        "id": "gjnTwmRgRmvF"
      },
      "outputs": [],
      "source": [
        "set_5 = os.path.join('/content/drive/MyDrive/Proposal skripsi/Dataset/Test/mentah')\n",
        "set_6 = os.path.join('/content/drive/MyDrive/Proposal skripsi/Dataset/Test/setengah matang')\n",
        "set_7 = os.path.join('/content/drive/MyDrive/Proposal skripsi/Dataset/Test/matang')\n",
        "set_8 = os.path.join('/content/drive/MyDrive/Proposal skripsi/Dataset/Test/busuk/test busuk')\n"
      ]
    },
    {
      "cell_type": "code",
      "execution_count": null,
      "metadata": {
        "colab": {
          "base_uri": "https://localhost:8080/"
        },
        "id": "qgWLsZXbVZlQ",
        "outputId": "5f05a12e-9e21-4978-f914-e44975801e33"
      },
      "outputs": [
        {
          "output_type": "stream",
          "name": "stdout",
          "text": [
            "total data train tomat Mentah:  400\n",
            "total data train tomat setengah matang:  411\n",
            "total data train tomat matang:  467\n",
            "total data train tomat busuk:  470\n",
            "\n",
            "\n",
            "total data test tomat mentah:  97\n",
            "total data test tomat setengah matang:  103\n",
            "total data test tomat matang:  114\n",
            "total data test tomat busuk:  97\n"
          ]
        }
      ],
      "source": [
        "print ('total data train tomat Mentah: ', len(os.listdir(set_1)))\n",
        "print ('total data train tomat setengah matang: ', len(os.listdir(set_2)))\n",
        "print ('total data train tomat matang: ', len(os.listdir(set_3)))\n",
        "print ('total data train tomat busuk: ', len(os.listdir(set_4)))\n",
        "\n",
        "#train test)\n",
        "print('\\n')\n",
        "print ('total data test tomat mentah: ', len(os.listdir(set_5)))\n",
        "print ('total data test tomat setengah matang: ', len(os.listdir(set_6)))\n",
        "print ('total data test tomat matang: ', len(os.listdir(set_7)))\n",
        "print ('total data test tomat busuk: ', len(os.listdir(set_8)))\n"
      ]
    },
    {
      "cell_type": "code",
      "execution_count": null,
      "metadata": {
        "id": "l6Qc3fxQhrxG"
      },
      "outputs": [],
      "source": [
        "from keras.preprocessing.image import ImageDataGenerator\n",
        "# Pengambilan ImageDataGenerator untuk rescale dari lib. keras"
      ]
    },
    {
      "cell_type": "code",
      "execution_count": null,
      "metadata": {
        "id": "rViybeKYgvfY"
      },
      "outputs": [],
      "source": [
        "train_datagen = ImageDataGenerator(rescale=1./255\n",
        "                                   )\n",
        "valid_datagen = ImageDataGenerator(rescale=1./255\n",
        "                                   )"
      ]
    },
    {
      "cell_type": "code",
      "execution_count": null,
      "metadata": {
        "colab": {
          "base_uri": "https://localhost:8080/"
        },
        "id": "B3nb8OcufZAA",
        "outputId": "c0fd61cc-6d77-4b9a-e0f5-ac1594d9efc7"
      },
      "outputs": [
        {
          "output_type": "stream",
          "name": "stdout",
          "text": [
            "Found 1748 images belonging to 4 classes.\n",
            "Found 411 images belonging to 4 classes.\n"
          ]
        }
      ],
      "source": [
        "train_generator = train_datagen.flow_from_directory('/content/drive/MyDrive/Proposal skripsi/Dataset/Train',\n",
        "                                                    batch_size = 32,\n",
        "                                                    target_size=(256,256),\n",
        "                                                    class_mode=\"categorical\",\n",
        "                                                    seed=46)\n",
        "validation_generator = valid_datagen.flow_from_directory('/content/drive/MyDrive/Proposal skripsi/Dataset/Test',\n",
        "                                                         batch_size = 32,\n",
        "                                                         target_size=(256,256),\n",
        "                                                         class_mode=\"categorical\",\n",
        "                                                         seed=46)"
      ]
    },
    {
      "cell_type": "code",
      "execution_count": null,
      "metadata": {
        "colab": {
          "base_uri": "https://localhost:8080/"
        },
        "id": "YfgOkmU4gbuR",
        "outputId": "0837dec7-4aac-41b7-ad58-3e93041f7837"
      },
      "outputs": [
        {
          "output_type": "stream",
          "name": "stdout",
          "text": [
            "{'busuk': 0, 'matang': 1, 'mentah': 2, 'setengah matang_fix': 3}\n"
          ]
        }
      ],
      "source": [
        "label_map=(train_generator.class_indices)\n",
        "print(label_map)"
      ]
    },
    {
      "cell_type": "code",
      "execution_count": null,
      "metadata": {
        "id": "ASm6rPh1x1TK",
        "colab": {
          "base_uri": "https://localhost:8080/"
        },
        "outputId": "82d1ed5a-12ca-477d-dbba-8f9df4079762"
      },
      "outputs": [
        {
          "output_type": "stream",
          "name": "stdout",
          "text": [
            "{'busuk': 0, 'matang': 1, 'mentah': 2, 'setengah matang': 3}\n"
          ]
        }
      ],
      "source": [
        "label_map=(validation_generator.class_indices)\n",
        "print(label_map)"
      ]
    },
    {
      "cell_type": "code",
      "execution_count": null,
      "metadata": {
        "id": "IOQnx-Xel8sc"
      },
      "outputs": [],
      "source": [
        "import tensorflow as tf\n",
        "from tensorflow.keras import layers\n",
        "from tensorflow.keras import regularizers"
      ]
    },
    {
      "cell_type": "code",
      "execution_count": null,
      "metadata": {
        "id": "BrjGPpIpkrrK"
      },
      "outputs": [],
      "source": [
        "model = tf.keras.models.Sequential([\n",
        "    #konvolusi pertama\n",
        "    # Depth 16, kernel size 3x3 matrix\n",
        "    tf.keras.layers.Conv2D(16, (3,3), activation='relu', padding='same', kernel_initializer='he_normal', input_shape=(256, 256, 3)),\n",
        "    tf.keras.layers.MaxPooling2D(2, 2),\n",
        "    #konvolusi kedua\n",
        "    tf.keras.layers.Conv2D(32, (3,3), activation='relu', padding='same', kernel_initializer='he_normal'), tf.keras.layers.MaxPooling2D(2,2),\n",
        "    #konvolusi ketiga\n",
        "    tf.keras.layers.Conv2D(64, (3,3), activation='relu', padding='same', kernel_initializer='he_normal'), tf.keras.layers.MaxPooling2D(2,2),\n",
        "    tf.keras.layers.Conv2D(64, (3,3), activation='relu', padding='same', kernel_initializer='he_normal'), tf.keras.layers.MaxPooling2D(2,2),\n",
        "    tf.keras.layers.Conv2D(64, (3,3), activation='relu', padding='same', kernel_initializer='he_normal'), tf.keras.layers.MaxPooling2D(2,2),\n",
        "    #flatten dropout\n",
        "    tf.keras.layers.Flatten(),\n",
        "    tf.keras.layers.Dropout(0.3),\n",
        "    #fully connected layers\n",
        "    tf.keras.layers.Dense(128, activity_regularizer=regularizers.l2(0.001), activation='relu'),\n",
        "    tf.keras.layers.Dropout(0.6),\n",
        "    tf.keras.layers.Dense(4, activation='softmax')    #ubah dense dari 6 menjadi 4 (tf.keras.layers.Dense(4, activation='softmax'))\n",
        "])"
      ]
    },
    {
      "cell_type": "code",
      "execution_count": null,
      "metadata": {
        "id": "jqykW-7BJwfR"
      },
      "outputs": [],
      "source": [
        "# model = tf.keras.models.Sequential --> buat arsitektur CNN\n",
        "model = tf.keras.models.Sequential([\n",
        "    #konvolusi pertama\n",
        "    # Depth 1, kernel size 5x5 matrix\n",
        "    tf.keras.layers.Conv2D(3, (5,5), strides= (5,5), input_shape=(255, 255, 3)),\n",
        "    tf.keras.layers.Conv2D(3, (5,5), strides= (2,2)),\n",
        "    tf.keras.layers.MaxPooling2D((3,3), strides=(3,3)),\n",
        "\n",
        "    #flatten dropout\n",
        "    tf.keras.layers.Flatten(),\n",
        "    #fully connected layers\n",
        "    tf.keras.layers.Dense(16, activation='relu'),\n",
        "    tf.keras.layers.Dense(4, activation='softmax')    #ubah dense dari 6 menjadi 4 (tf.keras.layers.Dense(4, activation='softmax'))\n",
        "])"
      ]
    },
    {
      "cell_type": "code",
      "execution_count": null,
      "metadata": {
        "colab": {
          "base_uri": "https://localhost:8080/"
        },
        "id": "ALFtvWRqoQiP",
        "outputId": "c13c2dc3-c9d6-496f-deee-0b83a3b27665"
      },
      "outputs": [
        {
          "output_type": "stream",
          "name": "stdout",
          "text": [
            "Model: \"sequential\"\n",
            "_________________________________________________________________\n",
            " Layer (type)                Output Shape              Param #   \n",
            "=================================================================\n",
            " conv2d (Conv2D)             (None, 256, 256, 16)      448       \n",
            "                                                                 \n",
            " max_pooling2d (MaxPooling2  (None, 128, 128, 16)      0         \n",
            " D)                                                              \n",
            "                                                                 \n",
            " conv2d_1 (Conv2D)           (None, 128, 128, 32)      4640      \n",
            "                                                                 \n",
            " max_pooling2d_1 (MaxPoolin  (None, 64, 64, 32)        0         \n",
            " g2D)                                                            \n",
            "                                                                 \n",
            " conv2d_2 (Conv2D)           (None, 64, 64, 64)        18496     \n",
            "                                                                 \n",
            " max_pooling2d_2 (MaxPoolin  (None, 32, 32, 64)        0         \n",
            " g2D)                                                            \n",
            "                                                                 \n",
            " conv2d_3 (Conv2D)           (None, 32, 32, 64)        36928     \n",
            "                                                                 \n",
            " max_pooling2d_3 (MaxPoolin  (None, 16, 16, 64)        0         \n",
            " g2D)                                                            \n",
            "                                                                 \n",
            " conv2d_4 (Conv2D)           (None, 16, 16, 64)        36928     \n",
            "                                                                 \n",
            " max_pooling2d_4 (MaxPoolin  (None, 8, 8, 64)          0         \n",
            " g2D)                                                            \n",
            "                                                                 \n",
            " flatten (Flatten)           (None, 4096)              0         \n",
            "                                                                 \n",
            " dropout (Dropout)           (None, 4096)              0         \n",
            "                                                                 \n",
            " dense (Dense)               (None, 128)               524416    \n",
            "                                                                 \n",
            " dropout_1 (Dropout)         (None, 128)               0         \n",
            "                                                                 \n",
            " dense_1 (Dense)             (None, 4)                 516       \n",
            "                                                                 \n",
            "=================================================================\n",
            "Total params: 622372 (2.37 MB)\n",
            "Trainable params: 622372 (2.37 MB)\n",
            "Non-trainable params: 0 (0.00 Byte)\n",
            "_________________________________________________________________\n"
          ]
        }
      ],
      "source": [
        "# max pooling --> untuk pengecekan ukuran\n",
        "# convolution --> mengecilkan ukuran\n",
        "\n",
        "model.summary()"
      ]
    },
    {
      "cell_type": "code",
      "execution_count": null,
      "metadata": {
        "id": "vh5OeNo6rspH"
      },
      "outputs": [],
      "source": [
        "from tensorflow.keras.optimizers import Adam\n",
        "adam = Adam(learning_rate = 0.001)\n",
        "\n",
        "#compile\n",
        "model.compile(loss = 'categorical_crossentropy', optimizer= tf.optimizers.Adam(), metrics=['accuracy'])"
      ]
    },
    {
      "cell_type": "code",
      "execution_count": null,
      "metadata": {
        "colab": {
          "base_uri": "https://localhost:8080/"
        },
        "id": "Vl8V1hldsn52",
        "outputId": "74f68259-9056-4890-e272-c3094ca2cfaf"
      },
      "outputs": [
        {
          "output_type": "stream",
          "name": "stdout",
          "text": [
            "Epoch 1/200\n",
            "3/3 [==============================] - 62s 30s/step - loss: 1.4325 - accuracy: 0.4062 - val_loss: 0.9978 - val_accuracy: 0.6979\n",
            "Epoch 2/200\n",
            "3/3 [==============================] - 57s 23s/step - loss: 1.0905 - accuracy: 0.5625 - val_loss: 0.6923 - val_accuracy: 0.9896\n",
            "Epoch 3/200\n",
            "3/3 [==============================] - 45s 18s/step - loss: 0.8102 - accuracy: 0.8021 - val_loss: 0.4861 - val_accuracy: 1.0000\n",
            "Epoch 4/200\n",
            "3/3 [==============================] - 33s 13s/step - loss: 0.6834 - accuracy: 0.7604 - val_loss: 0.2377 - val_accuracy: 1.0000\n",
            "Epoch 5/200\n",
            "3/3 [==============================] - 39s 17s/step - loss: 0.4846 - accuracy: 0.8750 - val_loss: 0.1584 - val_accuracy: 1.0000\n",
            "Epoch 6/200\n",
            "3/3 [==============================] - 18s 7s/step - loss: 0.3182 - accuracy: 0.9375 - val_loss: 0.1187 - val_accuracy: 1.0000\n",
            "Epoch 7/200\n",
            "3/3 [==============================] - 18s 6s/step - loss: 0.3105 - accuracy: 0.9375 - val_loss: 0.1127 - val_accuracy: 1.0000\n",
            "Epoch 8/200\n",
            "3/3 [==============================] - 18s 7s/step - loss: 0.3157 - accuracy: 0.9167 - val_loss: 0.1078 - val_accuracy: 1.0000\n",
            "Epoch 9/200\n",
            "3/3 [==============================] - 18s 5s/step - loss: 0.2241 - accuracy: 0.9688 - val_loss: 0.0977 - val_accuracy: 1.0000\n",
            "Epoch 10/200\n",
            "3/3 [==============================] - 14s 5s/step - loss: 0.2271 - accuracy: 0.9688 - val_loss: 0.0878 - val_accuracy: 1.0000\n",
            "Epoch 11/200\n",
            "3/3 [==============================] - 12s 4s/step - loss: 0.1444 - accuracy: 1.0000 - val_loss: 0.0826 - val_accuracy: 1.0000\n",
            "Epoch 12/200\n",
            "3/3 [==============================] - 15s 5s/step - loss: 0.1630 - accuracy: 0.9896 - val_loss: 0.0859 - val_accuracy: 1.0000\n",
            "Epoch 13/200\n",
            "3/3 [==============================] - 11s 4s/step - loss: 0.1462 - accuracy: 1.0000 - val_loss: 0.0855 - val_accuracy: 1.0000\n",
            "Epoch 14/200\n",
            "3/3 [==============================] - 11s 3s/step - loss: 0.1499 - accuracy: 0.9881 - val_loss: 0.0847 - val_accuracy: 1.0000\n",
            "Epoch 15/200\n",
            "3/3 [==============================] - 9s 3s/step - loss: 0.1591 - accuracy: 1.0000 - val_loss: 0.0824 - val_accuracy: 1.0000\n",
            "Epoch 16/200\n",
            "3/3 [==============================] - 10s 4s/step - loss: 0.1379 - accuracy: 0.9792 - val_loss: 0.0801 - val_accuracy: 1.0000\n",
            "Epoch 17/200\n",
            "3/3 [==============================] - 8s 3s/step - loss: 0.1233 - accuracy: 1.0000 - val_loss: 0.0795 - val_accuracy: 1.0000\n",
            "Epoch 18/200\n",
            "3/3 [==============================] - 9s 3s/step - loss: 0.1126 - accuracy: 1.0000 - val_loss: 0.0756 - val_accuracy: 1.0000\n",
            "Epoch 19/200\n",
            "3/3 [==============================] - 9s 4s/step - loss: 0.1359 - accuracy: 0.9896 - val_loss: 0.0745 - val_accuracy: 1.0000\n",
            "Epoch 20/200\n",
            "3/3 [==============================] - 8s 3s/step - loss: 0.1120 - accuracy: 1.0000 - val_loss: 0.0760 - val_accuracy: 1.0000\n",
            "Epoch 21/200\n",
            "3/3 [==============================] - 9s 3s/step - loss: 0.1379 - accuracy: 0.9896 - val_loss: 0.0783 - val_accuracy: 1.0000\n",
            "Epoch 22/200\n",
            "3/3 [==============================] - 8s 3s/step - loss: 0.1247 - accuracy: 1.0000 - val_loss: 0.0837 - val_accuracy: 1.0000\n",
            "Epoch 23/200\n",
            "3/3 [==============================] - 8s 2s/step - loss: 0.1087 - accuracy: 1.0000 - val_loss: 0.0754 - val_accuracy: 1.0000\n",
            "Epoch 24/200\n",
            "3/3 [==============================] - 7s 2s/step - loss: 0.1193 - accuracy: 0.9896 - val_loss: 0.0687 - val_accuracy: 1.0000\n",
            "Epoch 25/200\n",
            "3/3 [==============================] - 7s 2s/step - loss: 0.1080 - accuracy: 1.0000 - val_loss: 0.0720 - val_accuracy: 1.0000\n",
            "Epoch 26/200\n",
            "3/3 [==============================] - 8s 3s/step - loss: 0.0927 - accuracy: 1.0000 - val_loss: 0.0724 - val_accuracy: 1.0000\n",
            "Epoch 27/200\n",
            "3/3 [==============================] - 7s 3s/step - loss: 0.0994 - accuracy: 1.0000 - val_loss: 0.0704 - val_accuracy: 1.0000\n",
            "Epoch 28/200\n",
            "3/3 [==============================] - 7s 2s/step - loss: 0.0930 - accuracy: 1.0000 - val_loss: 0.0676 - val_accuracy: 1.0000\n",
            "Epoch 29/200\n",
            "3/3 [==============================] - 7s 3s/step - loss: 0.0986 - accuracy: 1.0000 - val_loss: 0.0656 - val_accuracy: 1.0000\n",
            "Epoch 30/200\n",
            "3/3 [==============================] - 7s 2s/step - loss: 0.0965 - accuracy: 1.0000 - val_loss: 0.0641 - val_accuracy: 1.0000\n",
            "Epoch 31/200\n",
            "3/3 [==============================] - 8s 2s/step - loss: 0.0908 - accuracy: 1.0000 - val_loss: 0.0608 - val_accuracy: 1.0000\n",
            "Epoch 32/200\n",
            "3/3 [==============================] - 6s 2s/step - loss: 0.0943 - accuracy: 1.0000 - val_loss: 0.0600 - val_accuracy: 1.0000\n",
            "Epoch 33/200\n",
            "3/3 [==============================] - 6s 2s/step - loss: 0.0964 - accuracy: 1.0000 - val_loss: 0.0613 - val_accuracy: 1.0000\n",
            "Epoch 34/200\n",
            "3/3 [==============================] - 6s 2s/step - loss: 0.0775 - accuracy: 1.0000 - val_loss: 0.0618 - val_accuracy: 1.0000\n",
            "Epoch 35/200\n",
            "3/3 [==============================] - 6s 2s/step - loss: 0.0921 - accuracy: 1.0000 - val_loss: 0.0580 - val_accuracy: 1.0000\n",
            "Epoch 36/200\n",
            "3/3 [==============================] - 7s 3s/step - loss: 0.1043 - accuracy: 1.0000 - val_loss: 0.0584 - val_accuracy: 1.0000\n",
            "Epoch 37/200\n",
            "3/3 [==============================] - 7s 3s/step - loss: 0.1008 - accuracy: 1.0000 - val_loss: 0.0620 - val_accuracy: 1.0000\n",
            "Epoch 38/200\n",
            "3/3 [==============================] - 6s 2s/step - loss: 0.0789 - accuracy: 1.0000 - val_loss: 0.0633 - val_accuracy: 1.0000\n",
            "Epoch 39/200\n",
            "3/3 [==============================] - 6s 2s/step - loss: 0.0861 - accuracy: 1.0000 - val_loss: 0.0625 - val_accuracy: 1.0000\n",
            "Epoch 40/200\n",
            "3/3 [==============================] - 7s 3s/step - loss: 0.0757 - accuracy: 1.0000 - val_loss: 0.0575 - val_accuracy: 1.0000\n",
            "Epoch 41/200\n",
            "3/3 [==============================] - 7s 3s/step - loss: 0.0851 - accuracy: 1.0000 - val_loss: 0.0541 - val_accuracy: 1.0000\n",
            "Epoch 42/200\n",
            "3/3 [==============================] - 6s 2s/step - loss: 0.0848 - accuracy: 1.0000 - val_loss: 0.0555 - val_accuracy: 1.0000\n",
            "Epoch 43/200\n",
            "3/3 [==============================] - 7s 2s/step - loss: 0.0762 - accuracy: 1.0000 - val_loss: 0.0574 - val_accuracy: 1.0000\n",
            "Epoch 44/200\n",
            "3/3 [==============================] - 6s 2s/step - loss: 0.0734 - accuracy: 1.0000 - val_loss: 0.0549 - val_accuracy: 1.0000\n",
            "Epoch 45/200\n",
            "3/3 [==============================] - 7s 3s/step - loss: 0.0775 - accuracy: 1.0000 - val_loss: 0.0530 - val_accuracy: 1.0000\n",
            "Epoch 46/200\n",
            "3/3 [==============================] - 6s 2s/step - loss: 0.0801 - accuracy: 1.0000 - val_loss: 0.0536 - val_accuracy: 1.0000\n",
            "Epoch 47/200\n",
            "3/3 [==============================] - 6s 2s/step - loss: 0.0804 - accuracy: 1.0000 - val_loss: 0.0553 - val_accuracy: 1.0000\n",
            "Epoch 48/200\n",
            "3/3 [==============================] - 7s 3s/step - loss: 0.0801 - accuracy: 1.0000 - val_loss: 0.0548 - val_accuracy: 1.0000\n",
            "Epoch 49/200\n",
            "3/3 [==============================] - 7s 3s/step - loss: 0.0680 - accuracy: 1.0000 - val_loss: 0.0516 - val_accuracy: 1.0000\n",
            "Epoch 50/200\n",
            "3/3 [==============================] - 6s 2s/step - loss: 0.0728 - accuracy: 1.0000 - val_loss: 0.0502 - val_accuracy: 1.0000\n",
            "Epoch 51/200\n",
            "3/3 [==============================] - 9s 4s/step - loss: 0.0686 - accuracy: 1.0000 - val_loss: 0.0501 - val_accuracy: 1.0000\n",
            "Epoch 52/200\n",
            "3/3 [==============================] - 7s 3s/step - loss: 0.0714 - accuracy: 1.0000 - val_loss: 0.0501 - val_accuracy: 1.0000\n",
            "Epoch 53/200\n",
            "3/3 [==============================] - 6s 2s/step - loss: 0.0760 - accuracy: 1.0000 - val_loss: 0.0507 - val_accuracy: 1.0000\n",
            "Epoch 54/200\n",
            "3/3 [==============================] - 8s 3s/step - loss: 0.0740 - accuracy: 1.0000 - val_loss: 0.0504 - val_accuracy: 1.0000\n",
            "Epoch 55/200\n",
            "3/3 [==============================] - 7s 3s/step - loss: 0.0710 - accuracy: 1.0000 - val_loss: 0.0501 - val_accuracy: 1.0000\n",
            "Epoch 56/200\n",
            "3/3 [==============================] - 7s 3s/step - loss: 0.0654 - accuracy: 1.0000 - val_loss: 0.0489 - val_accuracy: 1.0000\n",
            "Epoch 57/200\n",
            "3/3 [==============================] - 7s 2s/step - loss: 0.0662 - accuracy: 1.0000 - val_loss: 0.0486 - val_accuracy: 1.0000\n",
            "Epoch 58/200\n",
            "3/3 [==============================] - 7s 3s/step - loss: 0.0700 - accuracy: 1.0000 - val_loss: 0.0480 - val_accuracy: 1.0000\n",
            "Epoch 59/200\n",
            "3/3 [==============================] - 6s 3s/step - loss: 0.0701 - accuracy: 1.0000 - val_loss: 0.0474 - val_accuracy: 1.0000\n",
            "Epoch 60/200\n",
            "3/3 [==============================] - 6s 2s/step - loss: 0.0735 - accuracy: 1.0000 - val_loss: 0.0480 - val_accuracy: 1.0000\n",
            "Epoch 61/200\n",
            "3/3 [==============================] - 6s 2s/step - loss: 0.0684 - accuracy: 1.0000 - val_loss: 0.0494 - val_accuracy: 1.0000\n",
            "Epoch 62/200\n",
            "3/3 [==============================] - 7s 3s/step - loss: 0.0697 - accuracy: 1.0000 - val_loss: 0.0483 - val_accuracy: 1.0000\n",
            "Epoch 63/200\n",
            "3/3 [==============================] - 6s 2s/step - loss: 0.0671 - accuracy: 1.0000 - val_loss: 0.0467 - val_accuracy: 1.0000\n",
            "Epoch 64/200\n",
            "3/3 [==============================] - 7s 3s/step - loss: 0.0752 - accuracy: 1.0000 - val_loss: 0.0469 - val_accuracy: 1.0000\n",
            "Epoch 65/200\n",
            "3/3 [==============================] - 7s 3s/step - loss: 0.0715 - accuracy: 1.0000 - val_loss: 0.0459 - val_accuracy: 1.0000\n",
            "Epoch 66/200\n",
            "3/3 [==============================] - 7s 3s/step - loss: 0.0696 - accuracy: 1.0000 - val_loss: 0.0473 - val_accuracy: 1.0000\n",
            "Epoch 67/200\n",
            "3/3 [==============================] - 8s 3s/step - loss: 0.0719 - accuracy: 1.0000 - val_loss: 0.0473 - val_accuracy: 1.0000\n",
            "Epoch 68/200\n",
            "3/3 [==============================] - 7s 3s/step - loss: 0.0723 - accuracy: 1.0000 - val_loss: 0.0478 - val_accuracy: 1.0000\n",
            "Epoch 69/200\n",
            "3/3 [==============================] - 7s 3s/step - loss: 0.0716 - accuracy: 1.0000 - val_loss: 0.0508 - val_accuracy: 1.0000\n",
            "Epoch 70/200\n",
            "3/3 [==============================] - 6s 2s/step - loss: 0.0749 - accuracy: 1.0000 - val_loss: 0.0489 - val_accuracy: 1.0000\n",
            "Epoch 71/200\n",
            "3/3 [==============================] - 6s 3s/step - loss: 0.0658 - accuracy: 1.0000 - val_loss: 0.0428 - val_accuracy: 1.0000\n",
            "Epoch 72/200\n",
            "3/3 [==============================] - 7s 3s/step - loss: 0.0712 - accuracy: 1.0000 - val_loss: 0.0428 - val_accuracy: 1.0000\n",
            "Epoch 73/200\n",
            "3/3 [==============================] - 7s 3s/step - loss: 0.0648 - accuracy: 1.0000 - val_loss: 0.0443 - val_accuracy: 1.0000\n",
            "Epoch 74/200\n",
            "3/3 [==============================] - 7s 3s/step - loss: 0.0619 - accuracy: 1.0000 - val_loss: 0.0479 - val_accuracy: 1.0000\n",
            "Epoch 75/200\n",
            "3/3 [==============================] - 8s 3s/step - loss: 0.0594 - accuracy: 1.0000 - val_loss: 0.0446 - val_accuracy: 1.0000\n",
            "Epoch 76/200\n",
            "3/3 [==============================] - 6s 2s/step - loss: 0.0637 - accuracy: 1.0000 - val_loss: 0.0424 - val_accuracy: 1.0000\n",
            "Epoch 77/200\n",
            "3/3 [==============================] - 6s 2s/step - loss: 0.0628 - accuracy: 1.0000 - val_loss: 0.0439 - val_accuracy: 1.0000\n",
            "Epoch 78/200\n",
            "3/3 [==============================] - 7s 3s/step - loss: 0.0595 - accuracy: 1.0000 - val_loss: 0.0431 - val_accuracy: 1.0000\n",
            "Epoch 79/200\n",
            "3/3 [==============================] - 6s 2s/step - loss: 0.0666 - accuracy: 1.0000 - val_loss: 0.0431 - val_accuracy: 1.0000\n",
            "Epoch 80/200\n",
            "3/3 [==============================] - 6s 2s/step - loss: 0.0625 - accuracy: 1.0000 - val_loss: 0.0439 - val_accuracy: 1.0000\n",
            "Epoch 81/200\n",
            "3/3 [==============================] - 7s 3s/step - loss: 0.0608 - accuracy: 1.0000 - val_loss: 0.0444 - val_accuracy: 1.0000\n",
            "Epoch 82/200\n",
            "3/3 [==============================] - 6s 2s/step - loss: 0.0661 - accuracy: 0.9896 - val_loss: 0.0433 - val_accuracy: 1.0000\n",
            "Epoch 83/200\n",
            "3/3 [==============================] - 6s 2s/step - loss: 0.0595 - accuracy: 1.0000 - val_loss: 0.0405 - val_accuracy: 1.0000\n",
            "Epoch 84/200\n",
            "3/3 [==============================] - 7s 3s/step - loss: 0.0665 - accuracy: 1.0000 - val_loss: 0.0403 - val_accuracy: 1.0000\n",
            "Epoch 85/200\n",
            "3/3 [==============================] - 6s 2s/step - loss: 0.0663 - accuracy: 1.0000 - val_loss: 0.0441 - val_accuracy: 1.0000\n",
            "Epoch 86/200\n",
            "3/3 [==============================] - 7s 3s/step - loss: 0.0620 - accuracy: 1.0000 - val_loss: 0.0454 - val_accuracy: 1.0000\n",
            "Epoch 87/200\n",
            "3/3 [==============================] - 6s 2s/step - loss: 0.0576 - accuracy: 1.0000 - val_loss: 0.0407 - val_accuracy: 1.0000\n",
            "Epoch 88/200\n",
            "3/3 [==============================] - 6s 2s/step - loss: 0.0561 - accuracy: 1.0000 - val_loss: 0.0385 - val_accuracy: 1.0000\n",
            "Epoch 89/200\n",
            "3/3 [==============================] - 7s 3s/step - loss: 0.0551 - accuracy: 1.0000 - val_loss: 0.0387 - val_accuracy: 1.0000\n",
            "Epoch 90/200\n",
            "3/3 [==============================] - 7s 3s/step - loss: 0.0569 - accuracy: 1.0000 - val_loss: 0.0388 - val_accuracy: 1.0000\n",
            "Epoch 91/200\n",
            "3/3 [==============================] - 6s 2s/step - loss: 0.0547 - accuracy: 1.0000 - val_loss: 0.0402 - val_accuracy: 1.0000\n",
            "Epoch 92/200\n",
            "3/3 [==============================] - 7s 2s/step - loss: 0.0570 - accuracy: 1.0000 - val_loss: 0.0410 - val_accuracy: 1.0000\n",
            "Epoch 93/200\n",
            "3/3 [==============================] - 7s 3s/step - loss: 0.0725 - accuracy: 1.0000 - val_loss: 0.0416 - val_accuracy: 1.0000\n",
            "Epoch 94/200\n",
            "3/3 [==============================] - 6s 2s/step - loss: 0.0643 - accuracy: 1.0000 - val_loss: 0.0427 - val_accuracy: 1.0000\n",
            "Epoch 95/200\n",
            "3/3 [==============================] - 7s 2s/step - loss: 0.0554 - accuracy: 1.0000 - val_loss: 0.0414 - val_accuracy: 1.0000\n",
            "Epoch 96/200\n",
            "3/3 [==============================] - 7s 2s/step - loss: 0.0549 - accuracy: 1.0000 - val_loss: 0.0391 - val_accuracy: 1.0000\n",
            "Epoch 97/200\n",
            "3/3 [==============================] - 7s 3s/step - loss: 0.0542 - accuracy: 1.0000 - val_loss: 0.0388 - val_accuracy: 1.0000\n",
            "Epoch 98/200\n",
            "3/3 [==============================] - 7s 2s/step - loss: 0.0595 - accuracy: 1.0000 - val_loss: 0.0419 - val_accuracy: 1.0000\n",
            "Epoch 99/200\n",
            "3/3 [==============================] - 7s 3s/step - loss: 0.0526 - accuracy: 1.0000 - val_loss: 0.0396 - val_accuracy: 1.0000\n",
            "Epoch 100/200\n",
            "3/3 [==============================] - 7s 3s/step - loss: 0.0469 - accuracy: 1.0000 - val_loss: 0.0371 - val_accuracy: 1.0000\n",
            "Epoch 101/200\n",
            "3/3 [==============================] - 7s 3s/step - loss: 0.0639 - accuracy: 1.0000 - val_loss: 0.0374 - val_accuracy: 1.0000\n",
            "Epoch 102/200\n",
            "3/3 [==============================] - 7s 2s/step - loss: 0.0596 - accuracy: 1.0000 - val_loss: 0.0414 - val_accuracy: 1.0000\n",
            "Epoch 103/200\n",
            "3/3 [==============================] - 7s 3s/step - loss: 0.0544 - accuracy: 1.0000 - val_loss: 0.0411 - val_accuracy: 1.0000\n",
            "Epoch 104/200\n",
            "3/3 [==============================] - 6s 2s/step - loss: 0.0695 - accuracy: 0.9896 - val_loss: 0.0377 - val_accuracy: 1.0000\n",
            "Epoch 105/200\n",
            "3/3 [==============================] - 7s 2s/step - loss: 0.0484 - accuracy: 1.0000 - val_loss: 0.0375 - val_accuracy: 1.0000\n",
            "Epoch 106/200\n",
            "3/3 [==============================] - 6s 2s/step - loss: 0.0599 - accuracy: 1.0000 - val_loss: 0.0380 - val_accuracy: 1.0000\n",
            "Epoch 107/200\n",
            "3/3 [==============================] - 6s 2s/step - loss: 0.0484 - accuracy: 1.0000 - val_loss: 0.0396 - val_accuracy: 1.0000\n",
            "Epoch 108/200\n",
            "3/3 [==============================] - 7s 3s/step - loss: 0.0532 - accuracy: 1.0000 - val_loss: 0.0382 - val_accuracy: 1.0000\n",
            "Epoch 109/200\n",
            "3/3 [==============================] - 6s 2s/step - loss: 0.0536 - accuracy: 1.0000 - val_loss: 0.0362 - val_accuracy: 1.0000\n",
            "Epoch 110/200\n",
            "3/3 [==============================] - 7s 3s/step - loss: 0.0521 - accuracy: 1.0000 - val_loss: 0.0367 - val_accuracy: 1.0000\n",
            "Epoch 111/200\n",
            "3/3 [==============================] - 7s 3s/step - loss: 0.0519 - accuracy: 1.0000 - val_loss: 0.0361 - val_accuracy: 1.0000\n",
            "Epoch 112/200\n",
            "3/3 [==============================] - 6s 2s/step - loss: 0.0486 - accuracy: 1.0000 - val_loss: 0.0379 - val_accuracy: 1.0000\n",
            "Epoch 113/200\n",
            "3/3 [==============================] - 6s 2s/step - loss: 0.0473 - accuracy: 1.0000 - val_loss: 0.0370 - val_accuracy: 1.0000\n",
            "Epoch 114/200\n",
            "3/3 [==============================] - 8s 3s/step - loss: 0.0524 - accuracy: 1.0000 - val_loss: 0.0362 - val_accuracy: 1.0000\n",
            "Epoch 115/200\n",
            "3/3 [==============================] - 7s 3s/step - loss: 0.0549 - accuracy: 1.0000 - val_loss: 0.0365 - val_accuracy: 1.0000\n",
            "Epoch 116/200\n",
            "3/3 [==============================] - 7s 3s/step - loss: 0.0497 - accuracy: 1.0000 - val_loss: 0.0377 - val_accuracy: 1.0000\n",
            "Epoch 117/200\n",
            "3/3 [==============================] - 6s 2s/step - loss: 0.0501 - accuracy: 1.0000 - val_loss: 0.0357 - val_accuracy: 1.0000\n",
            "Epoch 118/200\n",
            "3/3 [==============================] - 7s 3s/step - loss: 0.0481 - accuracy: 1.0000 - val_loss: 0.0341 - val_accuracy: 1.0000\n",
            "Epoch 119/200\n",
            "3/3 [==============================] - 7s 3s/step - loss: 0.0435 - accuracy: 1.0000 - val_loss: 0.0327 - val_accuracy: 1.0000\n",
            "Epoch 120/200\n",
            "3/3 [==============================] - 7s 3s/step - loss: 0.0602 - accuracy: 1.0000 - val_loss: 0.0335 - val_accuracy: 1.0000\n",
            "Epoch 121/200\n",
            "3/3 [==============================] - 6s 2s/step - loss: 0.0523 - accuracy: 1.0000 - val_loss: 0.0388 - val_accuracy: 1.0000\n",
            "Epoch 122/200\n",
            "3/3 [==============================] - 6s 2s/step - loss: 0.0455 - accuracy: 1.0000 - val_loss: 0.0368 - val_accuracy: 1.0000\n",
            "Epoch 123/200\n",
            "3/3 [==============================] - 6s 2s/step - loss: 0.0484 - accuracy: 1.0000 - val_loss: 0.0344 - val_accuracy: 1.0000\n",
            "Epoch 124/200\n",
            "3/3 [==============================] - 7s 2s/step - loss: 0.0496 - accuracy: 1.0000 - val_loss: 0.0329 - val_accuracy: 1.0000\n",
            "Epoch 125/200\n",
            "3/3 [==============================] - 7s 3s/step - loss: 0.0443 - accuracy: 1.0000 - val_loss: 0.0327 - val_accuracy: 1.0000\n",
            "Epoch 126/200\n",
            "3/3 [==============================] - 6s 2s/step - loss: 0.0410 - accuracy: 1.0000 - val_loss: 0.0319 - val_accuracy: 1.0000\n",
            "Epoch 127/200\n",
            "3/3 [==============================] - 6s 2s/step - loss: 0.0466 - accuracy: 1.0000 - val_loss: 0.0326 - val_accuracy: 1.0000\n",
            "Epoch 128/200\n",
            "3/3 [==============================] - 8s 3s/step - loss: 0.0415 - accuracy: 1.0000 - val_loss: 0.0329 - val_accuracy: 1.0000\n",
            "Epoch 129/200\n",
            "3/3 [==============================] - 9s 4s/step - loss: 0.0479 - accuracy: 1.0000 - val_loss: 0.0330 - val_accuracy: 1.0000\n",
            "Epoch 130/200\n",
            "3/3 [==============================] - 7s 3s/step - loss: 0.0440 - accuracy: 1.0000 - val_loss: 0.0325 - val_accuracy: 1.0000\n",
            "Epoch 131/200\n",
            "3/3 [==============================] - 7s 2s/step - loss: 0.0515 - accuracy: 1.0000 - val_loss: 0.0326 - val_accuracy: 1.0000\n",
            "Epoch 132/200\n",
            "3/3 [==============================] - 7s 3s/step - loss: 0.0461 - accuracy: 1.0000 - val_loss: 0.0335 - val_accuracy: 1.0000\n",
            "Epoch 133/200\n",
            "3/3 [==============================] - 6s 2s/step - loss: 0.0478 - accuracy: 1.0000 - val_loss: 0.0327 - val_accuracy: 1.0000\n",
            "Epoch 134/200\n",
            "3/3 [==============================] - 8s 3s/step - loss: 0.0438 - accuracy: 1.0000 - val_loss: 0.0311 - val_accuracy: 1.0000\n",
            "Epoch 135/200\n",
            "3/3 [==============================] - 7s 3s/step - loss: 0.0462 - accuracy: 1.0000 - val_loss: 0.0309 - val_accuracy: 1.0000\n",
            "Epoch 136/200\n",
            "3/3 [==============================] - 7s 3s/step - loss: 0.0482 - accuracy: 1.0000 - val_loss: 0.0338 - val_accuracy: 1.0000\n",
            "Epoch 137/200\n",
            "3/3 [==============================] - 8s 3s/step - loss: 0.0440 - accuracy: 1.0000 - val_loss: 0.0359 - val_accuracy: 1.0000\n",
            "Epoch 138/200\n",
            "3/3 [==============================] - 7s 3s/step - loss: 0.0454 - accuracy: 1.0000 - val_loss: 0.0345 - val_accuracy: 1.0000\n",
            "Epoch 139/200\n",
            "3/3 [==============================] - 7s 3s/step - loss: 0.0433 - accuracy: 1.0000 - val_loss: 0.0313 - val_accuracy: 1.0000\n",
            "Epoch 140/200\n",
            "3/3 [==============================] - 6s 2s/step - loss: 0.0404 - accuracy: 1.0000 - val_loss: 0.0296 - val_accuracy: 1.0000\n",
            "Epoch 141/200\n",
            "3/3 [==============================] - 7s 3s/step - loss: 0.0398 - accuracy: 1.0000 - val_loss: 0.0288 - val_accuracy: 1.0000\n",
            "Epoch 142/200\n",
            "3/3 [==============================] - 7s 3s/step - loss: 0.0393 - accuracy: 1.0000 - val_loss: 0.0298 - val_accuracy: 1.0000\n",
            "Epoch 143/200\n",
            "3/3 [==============================] - 7s 2s/step - loss: 0.0385 - accuracy: 1.0000 - val_loss: 0.0302 - val_accuracy: 1.0000\n",
            "Epoch 144/200\n",
            "3/3 [==============================] - 7s 3s/step - loss: 0.0391 - accuracy: 1.0000 - val_loss: 0.0299 - val_accuracy: 1.0000\n",
            "Epoch 145/200\n",
            "3/3 [==============================] - 7s 3s/step - loss: 0.0466 - accuracy: 1.0000 - val_loss: 0.0310 - val_accuracy: 1.0000\n",
            "Epoch 146/200\n",
            "3/3 [==============================] - 7s 2s/step - loss: 0.0474 - accuracy: 1.0000 - val_loss: 0.0321 - val_accuracy: 1.0000\n",
            "Epoch 147/200\n",
            "3/3 [==============================] - 7s 3s/step - loss: 0.0406 - accuracy: 1.0000 - val_loss: 0.0313 - val_accuracy: 1.0000\n",
            "Epoch 148/200\n",
            "3/3 [==============================] - 7s 3s/step - loss: 0.0381 - accuracy: 1.0000 - val_loss: 0.0292 - val_accuracy: 1.0000\n",
            "Epoch 149/200\n",
            "3/3 [==============================] - 7s 3s/step - loss: 0.0421 - accuracy: 1.0000 - val_loss: 0.0282 - val_accuracy: 1.0000\n",
            "Epoch 150/200\n",
            "3/3 [==============================] - 6s 2s/step - loss: 0.0460 - accuracy: 1.0000 - val_loss: 0.0301 - val_accuracy: 1.0000\n",
            "Epoch 151/200\n",
            "3/3 [==============================] - 7s 3s/step - loss: 0.0390 - accuracy: 1.0000 - val_loss: 0.0312 - val_accuracy: 1.0000\n",
            "Epoch 152/200\n",
            "3/3 [==============================] - 6s 2s/step - loss: 0.0395 - accuracy: 1.0000 - val_loss: 0.0312 - val_accuracy: 1.0000\n",
            "Epoch 153/200\n",
            "3/3 [==============================] - 7s 3s/step - loss: 0.0383 - accuracy: 1.0000 - val_loss: 0.0295 - val_accuracy: 1.0000\n",
            "Epoch 154/200\n",
            "3/3 [==============================] - 7s 3s/step - loss: 0.0444 - accuracy: 1.0000 - val_loss: 0.0297 - val_accuracy: 1.0000\n",
            "Epoch 155/200\n",
            "3/3 [==============================] - 8s 3s/step - loss: 0.0368 - accuracy: 1.0000 - val_loss: 0.0283 - val_accuracy: 1.0000\n",
            "Epoch 156/200\n",
            "3/3 [==============================] - 7s 3s/step - loss: 0.0427 - accuracy: 1.0000 - val_loss: 0.0296 - val_accuracy: 1.0000\n",
            "Epoch 157/200\n",
            "3/3 [==============================] - 6s 2s/step - loss: 0.0370 - accuracy: 1.0000 - val_loss: 0.0303 - val_accuracy: 1.0000\n",
            "Epoch 158/200\n",
            "3/3 [==============================] - 6s 2s/step - loss: 0.0379 - accuracy: 1.0000 - val_loss: 0.0302 - val_accuracy: 1.0000\n",
            "Epoch 159/200\n",
            "3/3 [==============================] - 7s 3s/step - loss: 0.0382 - accuracy: 1.0000 - val_loss: 0.0278 - val_accuracy: 1.0000\n",
            "Epoch 160/200\n",
            "3/3 [==============================] - 8s 3s/step - loss: 0.0457 - accuracy: 1.0000 - val_loss: 0.0266 - val_accuracy: 1.0000\n",
            "Epoch 161/200\n",
            "3/3 [==============================] - 7s 3s/step - loss: 0.0392 - accuracy: 1.0000 - val_loss: 0.0282 - val_accuracy: 1.0000\n",
            "Epoch 162/200\n",
            "3/3 [==============================] - 7s 3s/step - loss: 0.0376 - accuracy: 1.0000 - val_loss: 0.0295 - val_accuracy: 1.0000\n",
            "Epoch 163/200\n",
            "3/3 [==============================] - 7s 2s/step - loss: 0.0404 - accuracy: 1.0000 - val_loss: 0.0288 - val_accuracy: 1.0000\n",
            "Epoch 164/200\n",
            "3/3 [==============================] - 6s 2s/step - loss: 0.0396 - accuracy: 1.0000 - val_loss: 0.0281 - val_accuracy: 1.0000\n",
            "Epoch 165/200\n",
            "3/3 [==============================] - 8s 3s/step - loss: 0.0344 - accuracy: 1.0000 - val_loss: 0.0270 - val_accuracy: 1.0000\n",
            "Epoch 166/200\n",
            "3/3 [==============================] - 7s 3s/step - loss: 0.0375 - accuracy: 1.0000 - val_loss: 0.0273 - val_accuracy: 1.0000\n",
            "Epoch 167/200\n",
            "3/3 [==============================] - 7s 3s/step - loss: 0.0355 - accuracy: 1.0000 - val_loss: 0.0277 - val_accuracy: 1.0000\n",
            "Epoch 168/200\n",
            "3/3 [==============================] - 6s 2s/step - loss: 0.0366 - accuracy: 1.0000 - val_loss: 0.0273 - val_accuracy: 1.0000\n",
            "Epoch 169/200\n",
            "3/3 [==============================] - 8s 3s/step - loss: 0.0410 - accuracy: 1.0000 - val_loss: 0.0277 - val_accuracy: 1.0000\n",
            "Epoch 170/200\n",
            "3/3 [==============================] - 7s 3s/step - loss: 0.0437 - accuracy: 1.0000 - val_loss: 0.0279 - val_accuracy: 1.0000\n",
            "Epoch 171/200\n",
            "3/3 [==============================] - 6s 2s/step - loss: 0.0349 - accuracy: 1.0000 - val_loss: 0.0268 - val_accuracy: 1.0000\n",
            "Epoch 172/200\n",
            "3/3 [==============================] - 8s 3s/step - loss: 0.0377 - accuracy: 1.0000 - val_loss: 0.0261 - val_accuracy: 1.0000\n",
            "Epoch 173/200\n",
            "3/3 [==============================] - 7s 3s/step - loss: 0.0367 - accuracy: 1.0000 - val_loss: 0.0276 - val_accuracy: 1.0000\n",
            "Epoch 174/200\n",
            "3/3 [==============================] - 6s 2s/step - loss: 0.0388 - accuracy: 1.0000 - val_loss: 0.0286 - val_accuracy: 1.0000\n",
            "Epoch 175/200\n",
            "3/3 [==============================] - 8s 3s/step - loss: 0.0408 - accuracy: 1.0000 - val_loss: 0.0272 - val_accuracy: 1.0000\n",
            "Epoch 176/200\n",
            "3/3 [==============================] - 7s 3s/step - loss: 0.0342 - accuracy: 1.0000 - val_loss: 0.0263 - val_accuracy: 1.0000\n",
            "Epoch 177/200\n",
            "3/3 [==============================] - 6s 2s/step - loss: 0.0361 - accuracy: 1.0000 - val_loss: 0.0258 - val_accuracy: 1.0000\n",
            "Epoch 178/200\n",
            "3/3 [==============================] - 7s 3s/step - loss: 0.0356 - accuracy: 1.0000 - val_loss: 0.0267 - val_accuracy: 1.0000\n",
            "Epoch 179/200\n",
            "3/3 [==============================] - 6s 2s/step - loss: 0.0352 - accuracy: 1.0000 - val_loss: 0.0267 - val_accuracy: 1.0000\n",
            "Epoch 180/200\n",
            "3/3 [==============================] - 6s 2s/step - loss: 0.0318 - accuracy: 1.0000 - val_loss: 0.0260 - val_accuracy: 1.0000\n",
            "Epoch 181/200\n",
            "3/3 [==============================] - 6s 2s/step - loss: 0.0443 - accuracy: 1.0000 - val_loss: 0.0254 - val_accuracy: 1.0000\n",
            "Epoch 182/200\n",
            "3/3 [==============================] - 6s 2s/step - loss: 0.0457 - accuracy: 1.0000 - val_loss: 0.0282 - val_accuracy: 1.0000\n",
            "Epoch 183/200\n",
            "3/3 [==============================] - 7s 3s/step - loss: 0.0376 - accuracy: 1.0000 - val_loss: 0.0298 - val_accuracy: 1.0000\n",
            "Epoch 184/200\n",
            "3/3 [==============================] - 6s 2s/step - loss: 0.0399 - accuracy: 1.0000 - val_loss: 0.0276 - val_accuracy: 1.0000\n",
            "Epoch 185/200\n",
            "3/3 [==============================] - 6s 2s/step - loss: 0.0404 - accuracy: 1.0000 - val_loss: 0.0263 - val_accuracy: 1.0000\n",
            "Epoch 186/200\n",
            "3/3 [==============================] - 6s 2s/step - loss: 0.0397 - accuracy: 1.0000 - val_loss: 0.0264 - val_accuracy: 1.0000\n",
            "Epoch 187/200\n",
            "3/3 [==============================] - 7s 3s/step - loss: 0.0462 - accuracy: 1.0000 - val_loss: 0.0282 - val_accuracy: 1.0000\n",
            "Epoch 188/200\n",
            "3/3 [==============================] - 7s 3s/step - loss: 0.0418 - accuracy: 1.0000 - val_loss: 0.0300 - val_accuracy: 1.0000\n",
            "Epoch 189/200\n",
            "3/3 [==============================] - 6s 2s/step - loss: 0.0375 - accuracy: 1.0000 - val_loss: 0.0285 - val_accuracy: 1.0000\n",
            "Epoch 190/200\n",
            "3/3 [==============================] - 7s 2s/step - loss: 0.0360 - accuracy: 1.0000 - val_loss: 0.0258 - val_accuracy: 1.0000\n",
            "Epoch 191/200\n",
            "3/3 [==============================] - 7s 3s/step - loss: 0.0374 - accuracy: 1.0000 - val_loss: 0.0246 - val_accuracy: 1.0000\n",
            "Epoch 192/200\n",
            "3/3 [==============================] - 7s 3s/step - loss: 0.0369 - accuracy: 1.0000 - val_loss: 0.0251 - val_accuracy: 1.0000\n",
            "Epoch 193/200\n",
            "3/3 [==============================] - 8s 3s/step - loss: 0.0321 - accuracy: 1.0000 - val_loss: 0.0249 - val_accuracy: 1.0000\n",
            "Epoch 194/200\n",
            "3/3 [==============================] - 8s 3s/step - loss: 0.0353 - accuracy: 1.0000 - val_loss: 0.0253 - val_accuracy: 1.0000\n",
            "Epoch 195/200\n",
            "3/3 [==============================] - 7s 3s/step - loss: 0.0403 - accuracy: 1.0000 - val_loss: 0.0273 - val_accuracy: 1.0000\n",
            "Epoch 196/200\n",
            "3/3 [==============================] - 6s 2s/step - loss: 0.0342 - accuracy: 1.0000 - val_loss: 0.0268 - val_accuracy: 1.0000\n",
            "Epoch 197/200\n",
            "3/3 [==============================] - 7s 2s/step - loss: 0.0334 - accuracy: 1.0000 - val_loss: 0.0236 - val_accuracy: 1.0000\n",
            "Epoch 198/200\n",
            "3/3 [==============================] - 6s 3s/step - loss: 0.0385 - accuracy: 1.0000 - val_loss: 0.0240 - val_accuracy: 1.0000\n",
            "Epoch 199/200\n",
            "3/3 [==============================] - 7s 3s/step - loss: 0.0374 - accuracy: 1.0000 - val_loss: 0.0259 - val_accuracy: 1.0000\n",
            "Epoch 200/200\n",
            "3/3 [==============================] - 6s 2s/step - loss: 0.0359 - accuracy: 1.0000 - val_loss: 0.0281 - val_accuracy: 1.0000\n"
          ]
        }
      ],
      "source": [
        "history=model.fit(\n",
        "    train_generator, steps_per_epoch=3, epochs=200, validation_data=validation_generator, validation_steps=3\n",
        "    )"
      ]
    },
    {
      "cell_type": "code",
      "execution_count": null,
      "metadata": {
        "colab": {
          "base_uri": "https://localhost:8080/"
        },
        "id": "82d2hyf68sG_",
        "outputId": "6991efb7-d82c-449c-c774-560b01d2f0f7"
      },
      "outputs": [
        {
          "output_type": "stream",
          "name": "stderr",
          "text": [
            "<ipython-input-19-21d8897f1c56>:2: UserWarning: You are saving your model as an HDF5 file via `model.save()`. This file format is considered legacy. We recommend using instead the native Keras format, e.g. `model.save('my_model.keras')`.\n",
            "  tf.keras.models.save_model(model, 'modelcnn_final.hdf5')\n"
          ]
        }
      ],
      "source": [
        "import tensorflow as tf\n",
        "tf.keras.models.save_model(model, 'modelcnn_final.hdf5')"
      ]
    },
    {
      "cell_type": "code",
      "execution_count": null,
      "metadata": {
        "id": "dpZzwFgi9YPe"
      },
      "outputs": [],
      "source": [
        "import matplotlib.pyplot as plt\n",
        "acc = history.history['accuracy']\n",
        "val_acc = history.history['val_accuracy']\n",
        "\n",
        "loss = history.history['loss']\n",
        "val_loss = history.history['val_loss']"
      ]
    },
    {
      "cell_type": "code",
      "execution_count": null,
      "metadata": {
        "colab": {
          "base_uri": "https://localhost:8080/",
          "height": 718
        },
        "id": "CA6fhRSt93LR",
        "outputId": "fc46b843-3af5-4703-84de-d8804bdca657"
      },
      "outputs": [
        {
          "output_type": "display_data",
          "data": {
            "text/plain": [
              "<Figure size 800x800 with 2 Axes>"
            ],
            "image/png": "[encoded data removed]"
          },
          "metadata": {}
        }
      ],
      "source": [
        "plt.figure(figsize=(8, 8))\n",
        "plt.subplot(2, 1, 1)\n",
        "plt.plot(acc, label='training accuracy')\n",
        "plt.plot(val_acc, label='validation accuracy')\n",
        "plt.legend(loc='lower right')\n",
        "plt.ylabel('accuracy')\n",
        "plt.title('training and validation accuracy')\n",
        "\n",
        "plt.subplot(2, 1, 2)\n",
        "plt.plot(loss, label='training loss')\n",
        "plt.plot(val_loss, label='validation loss')\n",
        "plt.legend(loc='upper right')\n",
        "plt.ylabel('cross entropy')\n",
        "plt.title('training and validation loss')\n",
        "plt.xlabel('epoch')\n",
        "plt.show()"
      ]
    },
    {
      "cell_type": "code",
      "execution_count": null,
      "metadata": {
        "colab": {
          "base_uri": "https://localhost:8080/"
        },
        "id": "QwX5CESl-8C2",
        "outputId": "9194dd89-5b58-440b-ab07-20ef20281539"
      },
      "outputs": [
        {
          "output_type": "stream",
          "name": "stdout",
          "text": [
            "13/13 [==============================] - 8s 559ms/step - loss: 0.0289 - accuracy: 1.0000\n"
          ]
        },
        {
          "output_type": "execute_result",
          "data": {
            "text/plain": [
              "[0.028906602412462234, 1.0]"
            ]
          },
          "metadata": {},
          "execution_count": 22
        }
      ],
      "source": [
        "model.evaluate(validation_generator)"
      ]
    },
    {
      "cell_type": "code",
      "execution_count": null,
      "metadata": {
        "id": "ZdssKCLE4lTf"
      },
      "outputs": [],
      "source": [
        "from sklearn.metrics import classification_report"
      ]
    },
    {
      "cell_type": "code",
      "execution_count": null,
      "metadata": {
        "colab": {
          "base_uri": "https://localhost:8080/"
        },
        "id": "2utsbjhNDMz7",
        "outputId": "0f2cb91b-528e-463c-db3f-7a6aedc98347"
      },
      "outputs": [
        {
          "output_type": "stream",
          "name": "stdout",
          "text": [
            "Found 411 images belonging to 4 classes.\n"
          ]
        }
      ],
      "source": [
        "test_generator = ImageDataGenerator(rescale=1./255)\n",
        "test_data_generator=test_generator.flow_from_directory('/content/drive/MyDrive/Proposal skripsi/Dataset/Test',\n",
        "                                                       target_size = (256,256), batch_size=30, shuffle=False)"
      ]
    },
    {
      "cell_type": "code",
      "source": [
        "from google.colab import drive\n",
        "drive.mount('/content/drive')"
      ],
      "metadata": {
        "colab": {
          "base_uri": "https://localhost:8080/"
        },
        "id": "YRGHdQsljP5c",
        "outputId": "c16eab43-5af9-4661-8b0c-6f51e838bfae"
      },
      "execution_count": null,
      "outputs": [
        {
          "output_type": "stream",
          "name": "stdout",
          "text": [
            "Drive already mounted at /content/drive; to attempt to forcibly remount, call drive.mount(\"/content/drive\", force_remount=True).\n"
          ]
        }
      ]
    },
    {
      "cell_type": "code",
      "execution_count": null,
      "metadata": {
        "colab": {
          "base_uri": "https://localhost:8080/",
          "height": 839
        },
        "id": "3hEwPp166rex",
        "outputId": "6c2fd6ad-d2d1-40e3-e462-1d43df6a8a1e"
      },
      "outputs": [
        {
          "output_type": "stream",
          "name": "stdout",
          "text": [
            "0 : busuk\n",
            "1 : matang\n",
            "2 : mentah\n",
            "3 : setengah matang\n"
          ]
        },
        {
          "output_type": "stream",
          "name": "stderr",
          "text": [
            "<ipython-input-33-a981c2aa7fe1>:10: UserWarning: `Model.predict_generator` is deprecated and will be removed in a future version. Please use `Model.predict`, which supports generators.\n",
            "  prediksi=model.predict_generator(test_data_generator)\n"
          ]
        },
        {
          "output_type": "execute_result",
          "data": {
            "text/plain": [
              "Text(0.5, 58.7222222222222, 'Prediksi')"
            ]
          },
          "metadata": {},
          "execution_count": 33
        },
        {
          "output_type": "display_data",
          "data": {
            "text/plain": [
              "<Figure size 800x800 with 2 Axes>"
            ],
            "image/png": "[encoded data removed]"
          },
          "metadata": {}
        }
      ],
      "source": [
        "import sklearn\n",
        "from sklearn.metrics import confusion_matrix\n",
        "import matplotlib.pyplot as plt\n",
        "import numpy as np\n",
        "import seaborn as sns\n",
        "\n",
        "for x in label_map:\n",
        "      print(label_map[x],\":\",x)\n",
        "\n",
        "prediksi=model.predict_generator(test_data_generator)\n",
        "y_pred=np.argmax(prediksi,axis=1)\n",
        "\n",
        "plt.figure(figsize=(8,8))\n",
        "sns.heatmap(confusion_matrix(test_data_generator.classes,y_pred),annot=True)\n",
        "plt.title(\"Confusion Matrix\")\n",
        "plt.ylabel(\"Aktual\")\n",
        "plt.xlabel(\"Prediksi\")\n",
        "\n",
        "\n"
      ]
    },
    {
      "cell_type": "code",
      "execution_count": null,
      "metadata": {
        "colab": {
          "base_uri": "https://localhost:8080/"
        },
        "id": "AqUvi6TSyl8t",
        "outputId": "2da83eee-228b-4188-c7fe-6aa3a88d9d0c"
      },
      "outputs": [
        {
          "output_type": "stream",
          "name": "stdout",
          "text": [
            "              precision    recall  f1-score   support\n",
            "\n",
            "           0       1.00      1.00      1.00        97\n",
            "           1       1.00      1.00      1.00       114\n",
            "           2       1.00      1.00      1.00        97\n",
            "           3       1.00      1.00      1.00       103\n",
            "\n",
            "    accuracy                           1.00       411\n",
            "   macro avg       1.00      1.00      1.00       411\n",
            "weighted avg       1.00      1.00      1.00       411\n",
            "\n"
          ]
        }
      ],
      "source": [
        "from sklearn.metrics import classification_report\n",
        "print(classification_report(test_data_generator.classes,y_pred))"
      ]
    },
    {
      "cell_type": "code",
      "execution_count": null,
      "metadata": {
        "colab": {
          "base_uri": "https://localhost:8080/"
        },
        "id": "YIdpqrPOyq3o",
        "outputId": "76bc6699-e241-4564-fc4d-ec103014f90a"
      },
      "outputs": [
        {
          "output_type": "stream",
          "name": "stdout",
          "text": [
            "[[ 97   0   0   0]\n",
            " [  0 114   0   0]\n",
            " [  0   0  97   0]\n",
            " [  0   0   0 103]]\n"
          ]
        }
      ],
      "source": [
        "print(confusion_matrix(test_data_generator.classes,y_pred))"
      ]
    }
  ],
  "metadata": {
    "colab": {
      "provenance": [],
      "include_colab_link": true
    },
    "kernelspec": {
      "display_name": "Python 3",
      "name": "python3"
    },
    "language_info": {
      "name": "python"
    }
  },
  "nbformat": 4,
  "nbformat_minor": 0
}